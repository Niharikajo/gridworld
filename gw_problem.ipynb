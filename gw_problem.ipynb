{
  "nbformat": 4,
  "nbformat_minor": 5,
  "metadata": {
    "kernelspec": {
      "display_name": "Python 3",
      "language": "python",
      "name": "python3"
    },
    "language_info": {
      "codemirror_mode": {
        "name": "ipython",
        "version": 3
      },
      "file_extension": ".py",
      "mimetype": "text/x-python",
      "name": "python",
      "nbconvert_exporter": "python",
      "pygments_lexer": "ipython3",
      "version": "3.8.8"
    },
    "colab": {
      "name": "gw problem.ipynb",
      "provenance": [],
      "include_colab_link": true
    }
  },
  "cells": [
    {
      "cell_type": "markdown",
      "metadata": {
        "id": "view-in-github",
        "colab_type": "text"
      },
      "source": [
        "<a href=\"https://colab.research.google.com/github/Niharikajo/gridworld/blob/main/gw_problem.ipynb\" target=\"_parent\"><img src=\"https://colab.research.google.com/assets/colab-badge.svg\" alt=\"Open In Colab\"/></a>"
      ]
    },
    {
      "cell_type": "code",
      "metadata": {
        "id": "7fc098b8"
      },
      "source": [
        "#Creating a Gridworld game\n",
        "from Gridworld import Gridworld #gridworld game is imported\n",
        "game = Gridworld(size=4, mode='static') # size and mode of the game is passed on "
      ],
      "id": "7fc098b8",
      "execution_count": null,
      "outputs": []
    },
    {
      "cell_type": "code",
      "metadata": {
        "id": "94f19c36",
        "outputId": "33e92cc1-80f3-4b95-b5f4-5f06b8546128"
      },
      "source": [
        "# after taking the specified  parameters the following game is created \n",
        "game.display() # game is displayed"
      ],
      "id": "94f19c36",
      "execution_count": null,
      "outputs": [
        {
          "data": {
            "text/plain": [
              "array([['+', '-', ' ', 'P'],\n",
              "       [' ', 'W', ' ', ' '],\n",
              "       [' ', ' ', ' ', ' '],\n",
              "       [' ', ' ', ' ', ' ']], dtype='<U2')"
            ]
          },
          "execution_count": 3,
          "metadata": {},
          "output_type": "execute_result"
        }
      ]
    },
    {
      "cell_type": "code",
      "metadata": {
        "id": "f5eb5f6b",
        "outputId": "ed445bfb-fa1a-477d-ca7c-5d17b72a986f"
      },
      "source": [
        "game.makeMove('d') # a down move is made\n",
        "game.makeMove('d') #down move is made\n",
        "game.makeMove('l') #left move is made\n",
        "game.display() #game is displyed with updated position of P\n"
      ],
      "id": "f5eb5f6b",
      "execution_count": null,
      "outputs": [
        {
          "data": {
            "text/plain": [
              "array([['+', '-', ' ', ' '],\n",
              "       [' ', 'W', ' ', ' '],\n",
              "       [' ', ' ', 'P', ' '],\n",
              "       [' ', ' ', ' ', ' ']], dtype='<U2')"
            ]
          },
          "execution_count": 4,
          "metadata": {},
          "output_type": "execute_result"
        }
      ]
    },
    {
      "cell_type": "code",
      "metadata": {
        "id": "a60081d3",
        "outputId": "199ee41f-d3ca-4b80-dfe5-04dea6a15a88"
      },
      "source": [
        "game.reward()  #every nonwinning move receives a –1 reward"
      ],
      "id": "a60081d3",
      "execution_count": null,
      "outputs": [
        {
          "data": {
            "text/plain": [
              "-1"
            ]
          },
          "execution_count": 5,
          "metadata": {},
          "output_type": "execute_result"
        }
      ]
    },
    {
      "cell_type": "code",
      "metadata": {
        "id": "13ad495b",
        "outputId": "9e2c2ac6-5ca9-4623-86e4-625f2f6fdf66"
      },
      "source": [
        "game.board.render_np() #this shows how the game state is actually represented"
      ],
      "id": "13ad495b",
      "execution_count": null,
      "outputs": [
        {
          "data": {
            "text/plain": [
              "array([[[0, 0, 0, 0],\n",
              "        [0, 0, 0, 0],\n",
              "        [0, 0, 1, 0],\n",
              "        [0, 0, 0, 0]],\n",
              "\n",
              "       [[1, 0, 0, 0],\n",
              "        [0, 0, 0, 0],\n",
              "        [0, 0, 0, 0],\n",
              "        [0, 0, 0, 0]],\n",
              "\n",
              "       [[0, 1, 0, 0],\n",
              "        [0, 0, 0, 0],\n",
              "        [0, 0, 0, 0],\n",
              "        [0, 0, 0, 0]],\n",
              "\n",
              "       [[0, 0, 0, 0],\n",
              "        [0, 1, 0, 0],\n",
              "        [0, 0, 0, 0],\n",
              "        [0, 0, 0, 0]]], dtype=uint8)"
            ]
          },
          "execution_count": 6,
          "metadata": {},
          "output_type": "execute_result"
        }
      ]
    },
    {
      "cell_type": "code",
      "metadata": {
        "id": "d1729451"
      },
      "source": [
        "# Neural network Q function\n",
        "import numpy as np #import numpy library\n",
        "import torch #import pytorch library\n",
        "from Gridworld import Gridworld #import gridworld game\n",
        "from IPython.display import clear_output #clear_output is imported\n",
        "import random #import random\n",
        "from matplotlib import pylab as plt #pylab is imported from matplotlib\n",
        "\n",
        "l1 = 64 #layer 1 (length is 64 vector)\n",
        "l2 = 150 #layer 2 (length 150 vector)\n",
        "l3 = 100 #layer 3 (length 100 vector)\n",
        "l4 = 4  #layer 4 (length 4 vector)\n",
        "\n",
        "# set up the neural network model\n",
        "\n",
        "model = torch.nn.Sequential(   #sequential madule applies other modules in sequence to produce its output\n",
        "    torch.nn.Linear(l1, l2),   #linear module creats single layer feed forward network with l1 inputs and l2 outputs \n",
        "    torch.nn.ReLU(),           #ReLu module gives max(0,l2) as o/p which is fed as input to next layer\n",
        "    torch.nn.Linear(l2, l3),   #linear module  takes input from previous function and gives l3 outputs \n",
        "    torch.nn.ReLU(),           #ReLu module gives max(0,l3) as o/p which is fed as input to next layer\n",
        "    torch.nn.Linear(l3,l4)     #linear module  takes input from previous function and gives l4 outputs \n",
        ")\n",
        "#define a loss function\n",
        "loss_fn = torch.nn.MSELoss()\n",
        "# define the learning rate\n",
        "learning_rate = 1e-3 \n",
        "#set up an optimizer\n",
        "optimizer = torch.optim.Adam(model.parameters(), lr=learning_rate) \n",
        "\n",
        "gamma = 0.9\n",
        "epsilon = 1.0\n",
        "learning_rate = 1e-3\n",
        "optimizer = torch.optim.Adam(model.parameters(), lr=learning_rate)\n",
        "\n",
        "gamma = 0.9\n",
        "epsilon = 1.0"
      ],
      "id": "d1729451",
      "execution_count": null,
      "outputs": []
    },
    {
      "cell_type": "code",
      "metadata": {
        "id": "4054ba0b"
      },
      "source": [
        "#action set\n",
        "#Gridworld game engine’s makeMove method expects a character such as u to make a move,\n",
        "#but our Q-learning algorithm only knows how to generate numbers, so we need a simple map from numeric keys to action characters\n",
        "action_set = {\n",
        "    0: 'u',\n",
        "    1: 'd',\n",
        "    2: 'l',\n",
        "    3: 'r',\n",
        "}"
      ],
      "id": "4054ba0b",
      "execution_count": null,
      "outputs": []
    },
    {
      "cell_type": "code",
      "metadata": {
        "id": "e519287c",
        "outputId": "53375fcf-cf66-4edb-f3fd-a78346994e99"
      },
      "source": [
        "# Q-learning: Main training loop\n",
        "epochs = 1000\n",
        "losses = [] #Creates a list to store loss values so we can plot the trend later\n",
        "for i in range(epochs): # a for loop is set up for the number of epochs\n",
        "    game = Gridworld(size=4, mode='static') #For each epoch, we start a new game.\n",
        "    #After we create the game,we extract the state information and add a small amount of noise.\n",
        "    state_ = game.board.render_np().reshape(1,64) + np.random.rand(1,64)/10.0  \n",
        "    \n",
        "    state1 = torch.from_numpy(state_).float()#Converts the numpy array into a PyTorch tensor and then into a PyTorch variable\n",
        "    status = 1 #Uses the status variable to keep track of whether or not the game is still in progress\n",
        "    while(status == 1): #While this game is still in progress, plays to completion and then starts a new epoch\n",
        "        qval = model(state1) #Runs the Q-network forward to get its predicted Q values for all the actions\n",
        "        qval_ = qval.data.numpy() #pytorch variable is converted to numpy variable\n",
        "        if (random.random() < epsilon): #Selects an action using the epsilon-greedy method\n",
        "            action_ = np.random.randint(0,4) #random number is selected between 0 to 4\n",
        "        else:\n",
        "            action_ = np.argmax(qval_) #best action is selected from predicted Q values\n",
        "        \n",
        "        action = action_set[action_]#Translates the numerical action into one of the action characters that our Gridworld game expects\n",
        "        game.makeMove(action) #based on the action selected move is made\n",
        "        state2_ = game.board.render_np().reshape(1,64) + np.random.rand(1,64)/10.0\n",
        "        state2 = torch.from_numpy(state2_).float() #After making a move, gets the new state of the game\n",
        "        reward = game.reward() #reward is collected\n",
        "        with torch.no_grad():\n",
        "            newQ = model(state2.reshape(1,64)) #new Q values are predicted from new state\n",
        "        maxQ = torch.max(newQ) #Finds the maximum Q value predicted from the new state \n",
        "        if reward == -1: #Calculates the target Q value\n",
        "            Y = reward + (gamma * maxQ)\n",
        "        else:\n",
        "            Y = reward\n",
        "        Y = torch.Tensor([Y]).detach()\n",
        "        X = qval.squeeze()[action_] #Creates a copy of the qval array and then updates the one element corresponding to the action taken\n",
        "        loss = loss_fn(X, Y) \n",
        "        print(i, loss.item())\n",
        "        clear_output(wait=True)\n",
        "        optimizer.zero_grad()\n",
        "        loss.backward()\n",
        "        losses.append(loss.item())\n",
        "        optimizer.step()\n",
        "        state1 = state2\n",
        "        if reward != -1: #If reward is –1, the game hasn’t been won or lost and is still in progress\n",
        "            status = 0\n",
        "    if epsilon > 0.1: #Decrements the epsilon value after each epoch\n",
        "\n",
        "        epsilon -= (1/epochs)"
      ],
      "id": "e519287c",
      "execution_count": null,
      "outputs": [
        {
          "name": "stdout",
          "output_type": "stream",
          "text": [
            "999 0.23754951357841492\n"
          ]
        }
      ]
    },
    {
      "cell_type": "code",
      "metadata": {
        "id": "7100e932",
        "outputId": "d6edaf69-dc65-40ac-bd04-e39c4169d0db"
      },
      "source": [
        "#plot losses\n",
        "plt.figure(figsize=(10,7))\n",
        "plt.plot(losses)\n",
        "plt.xlabel(\"Epochs\",fontsize=22)\n",
        "plt.ylabel(\"Loss\",fontsize=22)"
      ],
      "id": "7100e932",
      "execution_count": null,
      "outputs": [
        {
          "data": {
            "text/plain": [
              "Text(0, 0.5, 'Loss')"
            ]
          },
          "execution_count": 27,
          "metadata": {},
          "output_type": "execute_result"
        },
        {
          "data": {
            "image/png": "[encoded data removed]",
            "text/plain": [
              "<Figure size 720x504 with 1 Axes>"
            ]
          },
          "metadata": {
            "needs_background": "light"
          },
          "output_type": "display_data"
        }
      ]
    },
    {
      "cell_type": "code",
      "metadata": {
        "id": "fa0db080"
      },
      "source": [
        "# Testing the Q-network\n",
        "def test_model(model, mode='static', display=True):\n",
        "    i = 0\n",
        "    test_game = Gridworld(mode=mode)\n",
        "    state_ = test_game.board.render_np().reshape(1,64) + np.random.rand(1,64)/10.0 #extract the state information and add a small amount of noise\n",
        "    state = torch.from_numpy(state_).float()\n",
        "    if display:\n",
        "        print(\"Initial State:\")\n",
        "        print(test_game.display()) # inital game state before making any move\n",
        "    status = 1\n",
        "    while(status == 1): #While the game is still in progress\n",
        "        qval = model(state)#Runs the Q-network forward to get its predicted Q values for all the actions\n",
        "        qval_ = qval.data.numpy()\n",
        "        action_ = np.argmax(qval_) #Takes the action with the highest Q value\n",
        "\n",
        "        action = action_set[action_]#Translates the numerical action into one of the action characters that our Gridworld game expects\n",
        "        if display:\n",
        "            print('Move #: %s; Taking action: %s' % (i, action))\n",
        "        test_game.makeMove(action) #action is taken\n",
        "        state_ = test_game.board.render_np().reshape(1,64) + np.random.rand(1,64)/10.0 #new state is updated\n",
        "        state = torch.from_numpy(state_).float()\n",
        "        if display:\n",
        "            print(test_game.display()) # game is displayed \n",
        "        reward = test_game.reward() # reward is calculated \n",
        "        if reward != -1: #if reward= -1 then game not completed yet\n",
        "            if reward > 0:  #reward greater then 0 implies P has reached +\n",
        "                status = 2  #game won\n",
        "                if display:\n",
        "                    print(\"Game won! Reward: %s\" % (reward,)) \n",
        "            else:\n",
        "                status = 0 #game lost\n",
        "                if display:\n",
        "                    print(\"Game LOST. Reward: %s\" % (reward,))\n",
        "        i += 1 # i is updated after every move\n",
        "        if (i > 15): \n",
        "            if display:\n",
        "                print(\"Game lost; too many moves.\") # if more then 15 moves are made and the game is still in progess then game is declared lost\n",
        "            break #end game\n",
        "    \n",
        "    win = True if status == 2 else False\n",
        "    return win "
      ],
      "id": "fa0db080",
      "execution_count": null,
      "outputs": []
    },
    {
      "cell_type": "code",
      "metadata": {
        "id": "0d55ad74",
        "outputId": "ea37fc21-2593-4971-c355-83da3f3c7e56"
      },
      "source": [
        "test_model(model) # test model"
      ],
      "id": "0d55ad74",
      "execution_count": null,
      "outputs": [
        {
          "name": "stdout",
          "output_type": "stream",
          "text": [
            "Initial State:\n",
            "[['+' '-' ' ' 'P']\n",
            " [' ' 'W' ' ' ' ']\n",
            " [' ' ' ' ' ' ' ']\n",
            " [' ' ' ' ' ' ' ']]\n",
            "Move #: 0; Taking action: d\n",
            "[['+' '-' ' ' ' ']\n",
            " [' ' 'W' ' ' 'P']\n",
            " [' ' ' ' ' ' ' ']\n",
            " [' ' ' ' ' ' ' ']]\n",
            "Move #: 1; Taking action: l\n",
            "[['+' '-' ' ' ' ']\n",
            " [' ' 'W' 'P' ' ']\n",
            " [' ' ' ' ' ' ' ']\n",
            " [' ' ' ' ' ' ' ']]\n",
            "Move #: 2; Taking action: d\n",
            "[['+' '-' ' ' ' ']\n",
            " [' ' 'W' ' ' ' ']\n",
            " [' ' ' ' 'P' ' ']\n",
            " [' ' ' ' ' ' ' ']]\n",
            "Move #: 3; Taking action: l\n",
            "[['+' '-' ' ' ' ']\n",
            " [' ' 'W' ' ' ' ']\n",
            " [' ' 'P' ' ' ' ']\n",
            " [' ' ' ' ' ' ' ']]\n",
            "Move #: 4; Taking action: l\n",
            "[['+' '-' ' ' ' ']\n",
            " [' ' 'W' ' ' ' ']\n",
            " ['P' ' ' ' ' ' ']\n",
            " [' ' ' ' ' ' ' ']]\n",
            "Move #: 5; Taking action: u\n",
            "[['+' '-' ' ' ' ']\n",
            " ['P' 'W' ' ' ' ']\n",
            " [' ' ' ' ' ' ' ']\n",
            " [' ' ' ' ' ' ' ']]\n",
            "Move #: 6; Taking action: u\n",
            "[['+' '-' ' ' ' ']\n",
            " [' ' 'W' ' ' ' ']\n",
            " [' ' ' ' ' ' ' ']\n",
            " [' ' ' ' ' ' ' ']]\n",
            "Game won! Reward: 10\n"
          ]
        },
        {
          "data": {
            "text/plain": [
              "True"
            ]
          },
          "execution_count": 22,
          "metadata": {},
          "output_type": "execute_result"
        }
      ]
    },
    {
      "cell_type": "code",
      "metadata": {
        "id": "190a564a",
        "outputId": "2c369811-0080-45a6-b64c-86ba0fcdbfa1"
      },
      "source": [
        "test_model(model,'random')"
      ],
      "id": "190a564a",
      "execution_count": null,
      "outputs": [
        {
          "name": "stdout",
          "output_type": "stream",
          "text": [
            "Initial State:\n",
            "[['W' ' ' ' ' '-']\n",
            " [' ' ' ' ' ' ' ']\n",
            " [' ' ' ' 'P' ' ']\n",
            " ['+' ' ' ' ' ' ']]\n",
            "Move #: 0; Taking action: l\n",
            "[['W' ' ' ' ' '-']\n",
            " [' ' ' ' ' ' ' ']\n",
            " [' ' 'P' ' ' ' ']\n",
            " ['+' ' ' ' ' ' ']]\n",
            "Move #: 1; Taking action: l\n",
            "[['W' ' ' ' ' '-']\n",
            " [' ' ' ' ' ' ' ']\n",
            " ['P' ' ' ' ' ' ']\n",
            " ['+' ' ' ' ' ' ']]\n",
            "Move #: 2; Taking action: u\n",
            "[['W' ' ' ' ' '-']\n",
            " ['P' ' ' ' ' ' ']\n",
            " [' ' ' ' ' ' ' ']\n",
            " ['+' ' ' ' ' ' ']]\n",
            "Move #: 3; Taking action: u\n",
            "[['W' ' ' ' ' '-']\n",
            " ['P' ' ' ' ' ' ']\n",
            " [' ' ' ' ' ' ' ']\n",
            " ['+' ' ' ' ' ' ']]\n",
            "Move #: 4; Taking action: u\n",
            "[['W' ' ' ' ' '-']\n",
            " ['P' ' ' ' ' ' ']\n",
            " [' ' ' ' ' ' ' ']\n",
            " ['+' ' ' ' ' ' ']]\n",
            "Move #: 5; Taking action: u\n",
            "[['W' ' ' ' ' '-']\n",
            " ['P' ' ' ' ' ' ']\n",
            " [' ' ' ' ' ' ' ']\n",
            " ['+' ' ' ' ' ' ']]\n",
            "Move #: 6; Taking action: u\n",
            "[['W' ' ' ' ' '-']\n",
            " ['P' ' ' ' ' ' ']\n",
            " [' ' ' ' ' ' ' ']\n",
            " ['+' ' ' ' ' ' ']]\n",
            "Move #: 7; Taking action: u\n",
            "[['W' ' ' ' ' '-']\n",
            " ['P' ' ' ' ' ' ']\n",
            " [' ' ' ' ' ' ' ']\n",
            " ['+' ' ' ' ' ' ']]\n",
            "Move #: 8; Taking action: u\n",
            "[['W' ' ' ' ' '-']\n",
            " ['P' ' ' ' ' ' ']\n",
            " [' ' ' ' ' ' ' ']\n",
            " ['+' ' ' ' ' ' ']]\n",
            "Move #: 9; Taking action: u\n",
            "[['W' ' ' ' ' '-']\n",
            " ['P' ' ' ' ' ' ']\n",
            " [' ' ' ' ' ' ' ']\n",
            " ['+' ' ' ' ' ' ']]\n",
            "Move #: 10; Taking action: u\n",
            "[['W' ' ' ' ' '-']\n",
            " ['P' ' ' ' ' ' ']\n",
            " [' ' ' ' ' ' ' ']\n",
            " ['+' ' ' ' ' ' ']]\n",
            "Move #: 11; Taking action: u\n",
            "[['W' ' ' ' ' '-']\n",
            " ['P' ' ' ' ' ' ']\n",
            " [' ' ' ' ' ' ' ']\n",
            " ['+' ' ' ' ' ' ']]\n",
            "Move #: 12; Taking action: u\n",
            "[['W' ' ' ' ' '-']\n",
            " ['P' ' ' ' ' ' ']\n",
            " [' ' ' ' ' ' ' ']\n",
            " ['+' ' ' ' ' ' ']]\n",
            "Move #: 13; Taking action: u\n",
            "[['W' ' ' ' ' '-']\n",
            " ['P' ' ' ' ' ' ']\n",
            " [' ' ' ' ' ' ' ']\n",
            " ['+' ' ' ' ' ' ']]\n",
            "Move #: 14; Taking action: u\n",
            "[['W' ' ' ' ' '-']\n",
            " ['P' ' ' ' ' ' ']\n",
            " [' ' ' ' ' ' ' ']\n",
            " ['+' ' ' ' ' ' ']]\n",
            "Move #: 15; Taking action: u\n",
            "[['W' ' ' ' ' '-']\n",
            " ['P' ' ' ' ' ' ']\n",
            " [' ' ' ' ' ' ' ']\n",
            " ['+' ' ' ' ' ' ']]\n",
            "Game lost; too many moves.\n"
          ]
        },
        {
          "data": {
            "text/plain": [
              "False"
            ]
          },
          "execution_count": 23,
          "metadata": {},
          "output_type": "execute_result"
        }
      ]
    },
    {
      "cell_type": "markdown",
      "metadata": {
        "id": "f71b4621"
      },
      "source": [
        "as we saw above the training loop works perfectly for static mode but not in random mode there is  catastrophic forgetting to prevent that we use  Experience replay"
      ],
      "id": "f71b4621"
    },
    {
      "cell_type": "code",
      "metadata": {
        "id": "c866f132"
      },
      "source": [
        "# same Neural network Q function is used for the training loop using experience replay\n",
        "\n",
        "l1 = 64\n",
        "l2 = 150\n",
        "l3 = 100\n",
        "l4 = 4\n",
        "\n",
        "model = torch.nn.Sequential(\n",
        "    torch.nn.Linear(l1, l2),\n",
        "    torch.nn.ReLU(),\n",
        "    torch.nn.Linear(l2, l3),\n",
        "    torch.nn.ReLU(),\n",
        "    torch.nn.Linear(l3,l4)\n",
        ")\n",
        "loss_fn = torch.nn.MSELoss()\n",
        "learning_rate = 1e-3\n",
        "optimizer = torch.optim.Adam(model.parameters(), lr=learning_rate)\n",
        "\n",
        "learning_rate = 1e-3\n",
        "optimizer = torch.optim.Adam(model.parameters(), lr=learning_rate)\n",
        "\n",
        "gamma = 0.9\n",
        "epsilon = 0.3"
      ],
      "id": "c866f132",
      "execution_count": null,
      "outputs": []
    },
    {
      "cell_type": "code",
      "metadata": {
        "id": "fbf9ce01",
        "outputId": "32da7c53-7dbf-4aa4-9230-86537a8a7ae7"
      },
      "source": [
        "from collections import deque #deque (double ended queue) is imported\n",
        "epochs = 5000\n",
        "losses = []\n",
        "mem_size = 1000 #Set the total size of the experience replay memory\n",
        "batch_size = 200 #Set the minibatch size\n",
        "replay = deque(maxlen=mem_size) #Create the memory replay as a deque list\n",
        "max_moves = 50 # Maximum number of moves before game is over\n",
        "h = 0\n",
        "for i in range(epochs):  # a for loop is set up for the number of epochs For each epoch, we start a new game.\n",
        "    game = Gridworld(size=4, mode='random') #game specifics are set\n",
        "    state1_ = game.board.render_np().reshape(1,64) + np.random.rand(1,64)/100.0 #we extract the state information and add a small amount of noise.\n",
        "    state1 = torch.from_numpy(state1_).float()\n",
        "    status = 1\n",
        "    mov = 0\n",
        "    while(status == 1): \n",
        "        mov += 1\n",
        "        qval = model(state1) #Compute Q-values from input state in order to select action\n",
        "        qval_ = qval.data.numpy()\n",
        "        if (random.random() < epsilon): #Select action using epsilon-greedy strategy\n",
        "            action_ = np.random.randint(0,4)\n",
        "        else:\n",
        "            action_ = np.argmax(qval_)\n",
        "        \n",
        "        action = action_set[action_] #Translates the numerical action into one of the action characters that our Gridworld game expects\n",
        "        if display:\n",
        "            game.makeMove(action) # action is executed\n",
        "        state2_ = game.board.render_np().reshape(1,64) + np.random.rand(1,64)/100.0\n",
        "        state2 = torch.from_numpy(state2_).float() # gets the new state of the game\n",
        "        reward = game.reward() #reward is collected\n",
        "        done = True if reward > 0 else False #game is completed if the reward is greater then 0\n",
        "        exp =  (state1, action_, reward, state2, done) #Create experience of state, reward, action and next state as a tuple\n",
        "        replay.append(exp) # Add experience to experience replay list\n",
        "        state1 = state2 #new state is assigned to state 1\n",
        "        \n",
        "        if len(replay) > batch_size: #If replay list is at least as long as minibatch size, begin minibatch training\n",
        "            minibatch = random.sample(replay, batch_size) #Randomly sample a subset of the replay list\n",
        "            state1_batch = torch.cat([s1 for (s1,a,r,s2,d) in minibatch]) #Separate out the components of each experience into separate minibatch tensors\n",
        "            action_batch = torch.Tensor([a for (s1,a,r,s2,d) in minibatch])\n",
        "            reward_batch = torch.Tensor([r for (s1,a,r,s2,d) in minibatch])\n",
        "            state2_batch = torch.cat([s2 for (s1,a,r,s2,d) in minibatch])\n",
        "            done_batch = torch.Tensor([d for (s1,a,r,s2,d) in minibatch])\n",
        "            \n",
        "            Q1 = model(state1_batch) #Re-compute Q-values for minibatch of states to get gradients\n",
        "            with torch.no_grad():\n",
        "                Q2 = model(state2_batch) #Compute Q-values for minibatch of next states but don't compute gradients\n",
        "            \n",
        "            Y = reward_batch + gamma * ((1 - done_batch) * torch.max(Q2,dim=1)[0]) #Compute the target Q-values we want the DQN to learn\n",
        "            X = Q1.gather(dim=1,index=action_batch.long().unsqueeze(dim=1)).squeeze()\n",
        "            loss = loss_fn(X, Y.detach())\n",
        "            print(i, loss.item())\n",
        "            clear_output(wait=True)\n",
        "            optimizer.zero_grad()\n",
        "            loss.backward()\n",
        "            losses.append(loss.item())\n",
        "            optimizer.step()\n",
        "\n",
        "        if reward != -1 or mov > max_moves: #If game is over, reset status and mov number\n",
        "            status = 0\n",
        "            mov = 0\n",
        "losses = np.array(losses)\n"
      ],
      "id": "fbf9ce01",
      "execution_count": null,
      "outputs": [
        {
          "name": "stdout",
          "output_type": "stream",
          "text": [
            "4999 0.029285812750458717\n"
          ]
        }
      ]
    },
    {
      "cell_type": "code",
      "metadata": {
        "id": "65ede2fd",
        "outputId": "3f956446-1415-4f14-cc47-269076453898"
      },
      "source": [
        "#loss is ploted\n",
        "plt.figure(figsize=(10,7))\n",
        "plt.plot(losses)\n",
        "plt.xlabel(\"Epochs\",fontsize=22)\n",
        "plt.ylabel(\"Loss\",fontsize=22)"
      ],
      "id": "65ede2fd",
      "execution_count": null,
      "outputs": [
        {
          "data": {
            "text/plain": [
              "Text(0, 0.5, 'Loss')"
            ]
          },
          "execution_count": 35,
          "metadata": {},
          "output_type": "execute_result"
        },
        {
          "data": {
            "image/png": "[encoded data removed]",
            "text/plain": [
              "<Figure size 720x504 with 1 Axes>"
            ]
          },
          "metadata": {
            "needs_background": "light"
          },
          "output_type": "display_data"
        }
      ]
    },
    {
      "cell_type": "code",
      "metadata": {
        "id": "2d29b88b",
        "outputId": "ddd4eeee-3bfc-46b4-d683-cf3318ba74ae"
      },
      "source": [
        "#Testing the performance with experience replay\n",
        "max_games = 1000 # 1000 games are played \n",
        "wins = 0 #initial wins\n",
        "for i in range(max_games):\n",
        "    win = test_model(model, mode='random', display=False)\n",
        "    if win:\n",
        "        wins += 1 # increment wins\n",
        "win_perc = float(wins) / float(max_games) #percentage wins\n",
        "print(\"Games played: {0}, # of wins: {1}\".format(max_games,wins))\n",
        "print(\"Win percentage: {}%\".format(100.0*win_perc))"
      ],
      "id": "2d29b88b",
      "execution_count": null,
      "outputs": [
        {
          "name": "stdout",
          "output_type": "stream",
          "text": [
            "Games played: 1000, # of wins: 943\n",
            "Win percentage: 94.3%\n"
          ]
        }
      ]
    },
    {
      "cell_type": "code",
      "metadata": {
        "id": "7661e4bc"
      },
      "source": [
        "#Target network\n",
        "import copy\n",
        "\n",
        "l1 = 64\n",
        "l2 = 150\n",
        "l3 = 100\n",
        "l4 = 4\n",
        "\n",
        "\n",
        "model = torch.nn.Sequential(\n",
        "    torch.nn.Linear(l1, l2),\n",
        "    torch.nn.ReLU(),\n",
        "    torch.nn.Linear(l2, l3),\n",
        "    torch.nn.ReLU(),\n",
        "    torch.nn.Linear(l3,l4)\n",
        ")\n",
        "\n",
        "model2 = copy.deepcopy(model) #Creates a second model by making an identical copy of the original Q-network model\n",
        "model2.load_state_dict(model.state_dict()) #Copies the parameters of the original model\n",
        "\n",
        "loss_fn = torch.nn.MSELoss()\n",
        "learning_rate = 1e-3\n",
        "optimizer = torch.optim.Adam(model.parameters(), lr=learning_rate)\n",
        "\n",
        "gamma = 0.9\n",
        "epsilon = 0.3"
      ],
      "id": "7661e4bc",
      "execution_count": null,
      "outputs": []
    },
    {
      "cell_type": "code",
      "metadata": {
        "id": "83f24623",
        "outputId": "b4ed65c9-c2fc-44ef-fd38-5959c0809577"
      },
      "source": [
        "#DQN with experience replay and target network\n",
        "from collections import deque #deque (double ended queue) is imported\n",
        "epochs = 5000\n",
        "losses = []\n",
        "mem_size = 1000 #Set the total size of the experience replay memory\n",
        "batch_size = 200 #Set the minibatch size\n",
        "replay = deque(maxlen=mem_size) #Create the memory replay as a deque list\n",
        "max_moves = 50 # Maximum number of moves before game is over\n",
        "sync_freq = 500 # Set the update frequency for synchronizing the target model parameters to the main DQN\n",
        "h = 0\n",
        "j=0\n",
        "for i in range(epochs):  # a for loop is set up for the number of epochs For each epoch, we start a new game.\n",
        "    game = Gridworld(size=4, mode='random') #game specifics are set\n",
        "    state1_ = game.board.render_np().reshape(1,64) + np.random.rand(1,64)/100.0 #we extract the state information and add a small amount of noise.\n",
        "    state1 = torch.from_numpy(state1_).float()\n",
        "    status = 1\n",
        "    mov = 0\n",
        "    while(status == 1):\n",
        "        j+=1\n",
        "        mov += 1\n",
        "        qval = model2(state1) #Compute Q-values from input state in order to select action\n",
        "        qval_ = qval.data.numpy()\n",
        "        if (random.random() < epsilon): #Select action using epsilon-greedy strategy\n",
        "            action_ = np.random.randint(0,4)\n",
        "        else:\n",
        "            action_ = np.argmax(qval_)\n",
        "        \n",
        "        action = action_set[action_] #Translates the numerical action into one of the action characters that our Gridworld game expects\n",
        "        if display:\n",
        "            game.makeMove(action) # action is executed\n",
        "        state2_ = game.board.render_np().reshape(1,64) + np.random.rand(1,64)/100.0\n",
        "        state2 = torch.from_numpy(state2_).float() # gets the new state of the game\n",
        "        reward = game.reward() #reward is collected\n",
        "        done = True if reward > 0 else False #game is completed if the reward is greater then 0\n",
        "        exp =  (state1, action_, reward, state2, done) #Create experience of state, reward, action and next state as a tuple\n",
        "        replay.append(exp) # Add experience to experience replay list\n",
        "        state1 = state2 #new state is assigned to state 1\n",
        "        \n",
        "        if len(replay) > batch_size: #If replay list is at least as long as minibatch size, begin minibatch training\n",
        "            minibatch = random.sample(replay, batch_size) #Randomly sample a subset of the replay list\n",
        "            state1_batch = torch.cat([s1 for (s1,a,r,s2,d) in minibatch]) #Separate out the components of each experience into separate minibatch tensors\n",
        "            action_batch = torch.Tensor([a for (s1,a,r,s2,d) in minibatch])\n",
        "            reward_batch = torch.Tensor([r for (s1,a,r,s2,d) in minibatch])\n",
        "            state2_batch = torch.cat([s2 for (s1,a,r,s2,d) in minibatch])\n",
        "            done_batch = torch.Tensor([d for (s1,a,r,s2,d) in minibatch])\n",
        "            \n",
        "            Q1 = model(state1_batch) #Re-compute Q-values for minibatch of states to get gradients\n",
        "            with torch.no_grad():\n",
        "                Q2 = model2(state2_batch) #Use the target network to get the maiximum Q-value for the next state\n",
        "            \n",
        "            Y = reward_batch + gamma * ((1 - done_batch) * torch.max(Q2,dim=1)[0]) #Compute the target Q-values we want the DQN to learn\n",
        "            X = Q1.gather(dim=1,index=action_batch.long().unsqueeze(dim=1)).squeeze()\n",
        "            loss = loss_fn(X, Y.detach())\n",
        "            print(i, loss.item())\n",
        "            clear_output(wait=True)\n",
        "            optimizer.zero_grad()\n",
        "            loss.backward()\n",
        "            losses.append(loss.item())\n",
        "            optimizer.step()\n",
        "            \n",
        "            if j % sync_freq == 0: #Copy the main model parameters to the target network\n",
        "                model2.load_state_dict(model.state_dict())\n",
        "\n",
        "        if reward != -1 or mov > max_moves: #If game is over, reset status and mov number\n",
        "            status = 0\n",
        "            mov = 0\n",
        "losses = np.array(losses)\n"
      ],
      "id": "83f24623",
      "execution_count": null,
      "outputs": [
        {
          "name": "stdout",
          "output_type": "stream",
          "text": [
            "999 0.09227195382118225\n"
          ]
        }
      ]
    },
    {
      "cell_type": "code",
      "metadata": {
        "id": "fc080b43",
        "outputId": "ea739139-be1e-4dfd-c968-0095fcdd8aff"
      },
      "source": [
        "plt.figure(figsize=(10,7))\n",
        "plt.plot(losses)\n",
        "plt.xlabel(\"Epochs\",fontsize=22)\n",
        "plt.ylabel(\"Loss\",fontsize=22)"
      ],
      "id": "fc080b43",
      "execution_count": null,
      "outputs": [
        {
          "data": {
            "text/plain": [
              "Text(0, 0.5, 'Loss')"
            ]
          },
          "execution_count": 50,
          "metadata": {},
          "output_type": "execute_result"
        },
        {
          "data": {
            "image/png": "[encoded data removed]",
            "text/plain": [
              "<Figure size 720x504 with 1 Axes>"
            ]
          },
          "metadata": {
            "needs_background": "light"
          },
          "output_type": "display_data"
        }
      ]
    },
    {
      "cell_type": "code",
      "metadata": {
        "id": "92a97153",
        "outputId": "2dd76ead-c098-497d-878b-9cf74ab0d61d"
      },
      "source": [
        "max_games = 1000\n",
        "wins = 0\n",
        "for i in range(max_games):\n",
        "    win = test_model(model, mode='random', display=False)\n",
        "    if win:\n",
        "        wins += 1\n",
        "win_perc = float(wins) / float(max_games)\n",
        "print(\"Games played: {0}, # of wins: {1}\".format(max_games,wins))\n",
        "print(\"Win percentage: {}%\".format(100.0*win_perc))"
      ],
      "id": "92a97153",
      "execution_count": null,
      "outputs": [
        {
          "name": "stdout",
          "output_type": "stream",
          "text": [
            "Games played: 1000, # of wins: 725\n",
            "Win percentage: 72.5%\n"
          ]
        }
      ]
    },
    {
      "cell_type": "code",
      "metadata": {
        "id": "b4af96f8"
      },
      "source": [
        ""
      ],
      "id": "b4af96f8",
      "execution_count": null,
      "outputs": []
    }
  ]
}